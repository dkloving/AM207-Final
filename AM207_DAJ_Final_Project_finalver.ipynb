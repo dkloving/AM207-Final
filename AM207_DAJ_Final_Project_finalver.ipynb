{
 "cells": [
  {
   "cell_type": "markdown",
   "metadata": {},
   "source": [
    "# APMTH 207: Advanced Scientific Computing: \n",
    "## Stochastic Methods for Data Analysis, Inference and Optimization\n",
    "## Group Project\n",
    "**Harvard University**<br>\n",
    "**Spring 2018**<br>\n",
    "**Instructors: Rahul Dave**<br>\n",
    "**Assigned Teaching Staff: Patrick 'Likestogiveas' Ohiomoba**<br>\n",
    "**Due Date: ** Friday, April 27th, 2018 at 11:59pm<br><br>\n",
    "**Assigned Paper:** Bayesian Incremental Learning for Deep Neural Networks (https://arxiv.org/abs/1802.07329)<br>\n",
    "**Group Members:** Alex Truong, David Loving, Jonathan Lee\n"
   ]
  },
  {
   "cell_type": "markdown",
   "metadata": {},
   "source": [
    "# Background"
   ]
  },
  {
   "cell_type": "markdown",
   "metadata": {},
   "source": [
    "In many practical applications of machine learning, data are not fully collected prior to model training but arrive in chunks, with accrual possibly over a long time period. For instance, a machine learning model for medical diagnoses may accomodate an initial set of patient data, but the model parameters may need to be further tuned as yet more clinical data are generated. Thus, a method to tweak predictive models using new data would be broadly applicable for a number of applications of machine learning.\n",
    "\n",
    "Deep learning, or deep neural networks, represents a family of nonparametric machine learning models which have been gaining widespread use due to their flexibility and predictive capabilities in data analysis and artificial intelligence. However, deep learning models are marked by complex parameterization, making it challenging to tune these models. Furthermore, training of these models is prone to reach a suboptimal solution, especially .\n",
    "\n",
    "Kochurov et al. describe a method to update pre-existing deep learning models with new data using stochastic variational inference and Bayesian networks as opposed to pure DNNs. In this tutorial, we aim to implement key facets of this incremental learning approach with neural networks in a python framework."
   ]
  },
  {
   "cell_type": "markdown",
   "metadata": {},
   "source": [
    "# Overview of Methods"
   ]
  },
  {
   "cell_type": "markdown",
   "metadata": {},
   "source": [
    "## Incremental Learning"
   ]
  },
  {
   "cell_type": "markdown",
   "metadata": {},
   "source": [
    "To simulate an incremental learning framework, we model a dataset $\\mathcal D$ that arrives sequentially in $T$ parts, $\\mathcal D = \\{\\mathcal D_1,...\\mathcal D_T\\}$ during training. For each sequential addition of data, we train a neural network model on the subset of data, $\\mathcal D_t$ and then update our priors on the model weights. Pseudocode from Kochurov et al. is presented below.\n",
    "\n",
    "<img src=\"algorithm.png\">"
   ]
  },
  {
   "cell_type": "markdown",
   "metadata": {},
   "source": [
    "We use a pre-trained neural network and weak Gaussian priors on the weights, centered around the pre-trained means with standard deviations of 1. For each chunk of data that arrives, we sample from it and update our parameters using Adam with default settings, as described by Kochurov et al."
   ]
  },
  {
   "cell_type": "markdown",
   "metadata": {},
   "source": [
    "### Stochastic Variational Inference\n",
    "\n",
    "In many cases the posterior distribution is intractable, so approximation must be done in more creative ways. The authors decide upon stochastic variational inference to approximate each weight. Stochastic variational inference is the application of stochastic optimization to variational inference (Hoffman et al., 2013).\n",
    "\n",
    "In variational inference, the posterior distribution $P(\\textbf Z|\\textbf X)$ of some set of unknown variables $\\textbf Z = \\{Z_1,...Z_n\\}$ with some observed data $\\textbf X$ is approximated by a variational distribution, $Q(\\textbf Z)$. $Q(\\textbf Z)$ is restricted to the family of distributions that are simpler than $P(\\textbf Z|\\textbf X)$. The (lack of) similarity between $Q$ and $P$ is determined with a dissimiliarity function, $d(Q;P)$, and variational inference serves to minimize this function. A typical dissimiliarity function is Kullback–Leibler divergence (KL-divergence). It is defined as\n",
    "\n",
    "$$D_{\\mathrm{KL}}(Q || P) = \\sum_\\mathbf{Z}  Q(\\mathbf{Z}) \\log \\frac{Q(\\mathbf{Z})}{P(\\mathbf{Z}\\mid \\mathbf{X})}$$\n",
    "\n",
    "Minimizing a function like this turns the inference problem into an optimization problem.\n",
    "\n",
    "Stochastic variational inference applies random sampling of $\\mathbf{X}$ and updates model parameters accordingly. Once the minimization of the dissimilarity function is stabilized (converged), we arrive at our approximation of the posterior distribution.\n",
    "\n",
    "In this tutorial, we focus on the fully factorized gaussian approximation method, as used by the authors. Essentially, this method defines a category of variational distributions which are gaussian distributions, advertised by the authors as \"fast, stable and easy to use\". As defined by Kochurov et al., \"[f]or a dense layer with input and output dimension $I, O$, respectively, the model is\":\n",
    "\n",
    "$$q_{\\phi}(w) = \\prod_{i=1}^I \\prod_{j=1}^O \\mathcal N(w_{ij}|\\mu_{ij},\\sigma_{ij}^2)$$\n",
    "\n",
    "Of note, the authors mention that this method has low expressivity, which affects the quality of incremental learning.\n"
   ]
  },
  {
   "cell_type": "markdown",
   "metadata": {},
   "source": [
    "# Implementation"
   ]
  },
  {
   "cell_type": "markdown",
   "metadata": {},
   "source": [
    "## Data Preprocessing"
   ]
  },
  {
   "cell_type": "code",
   "execution_count": 1,
   "metadata": {},
   "outputs": [
    {
     "name": "stderr",
     "output_type": "stream",
     "text": [
      "c:\\Anaconda36\\lib\\site-packages\\h5py\\__init__.py:36: FutureWarning: Conversion of the second argument of issubdtype from `float` to `np.floating` is deprecated. In future, it will be treated as `np.float64 == np.dtype(float).type`.\n",
      "  from ._conv import register_converters as _register_converters\n"
     ]
    },
    {
     "name": "stdout",
     "output_type": "stream",
     "text": [
      "WARNING:tensorflow:From c:\\Anaconda36\\lib\\site-packages\\tensorflow\\contrib\\learn\\python\\learn\\datasets\\base.py:198: retry (from tensorflow.contrib.learn.python.learn.datasets.base) is deprecated and will be removed in a future version.\n",
      "Instructions for updating:\n",
      "Use the retry module or similar alternatives.\n"
     ]
    }
   ],
   "source": [
    "import tensorflow as tf\n",
    "tf_version = float(tf.__version__[:3])\n",
    "from tensorflow.examples.tutorials.mnist import input_data\n",
    "import numpy as np\n",
    "import matplotlib.pyplot as plt\n",
    "%matplotlib inline\n",
    "from edward.models import Normal, Categorical, Deterministic\n",
    "import edward as ed\n",
    "import time"
   ]
  },
  {
   "cell_type": "code",
   "execution_count": 2,
   "metadata": {},
   "outputs": [
    {
     "name": "stdout",
     "output_type": "stream",
     "text": [
      "WARNING:tensorflow:From <ipython-input-2-037a5633714a>:2: read_data_sets (from tensorflow.contrib.learn.python.learn.datasets.mnist) is deprecated and will be removed in a future version.\n",
      "Instructions for updating:\n",
      "Please use alternatives such as official/mnist/dataset.py from tensorflow/models.\n",
      "WARNING:tensorflow:From c:\\Anaconda36\\lib\\site-packages\\tensorflow\\contrib\\learn\\python\\learn\\datasets\\mnist.py:260: maybe_download (from tensorflow.contrib.learn.python.learn.datasets.base) is deprecated and will be removed in a future version.\n",
      "Instructions for updating:\n",
      "Please write your own downloading logic.\n",
      "WARNING:tensorflow:From c:\\Anaconda36\\lib\\site-packages\\tensorflow\\contrib\\learn\\python\\learn\\datasets\\mnist.py:262: extract_images (from tensorflow.contrib.learn.python.learn.datasets.mnist) is deprecated and will be removed in a future version.\n",
      "Instructions for updating:\n",
      "Please use tf.data to implement this functionality.\n",
      "Extracting mnist_data/train-images-idx3-ubyte.gz\n",
      "WARNING:tensorflow:From c:\\Anaconda36\\lib\\site-packages\\tensorflow\\contrib\\learn\\python\\learn\\datasets\\mnist.py:267: extract_labels (from tensorflow.contrib.learn.python.learn.datasets.mnist) is deprecated and will be removed in a future version.\n",
      "Instructions for updating:\n",
      "Please use tf.data to implement this functionality.\n",
      "Extracting mnist_data/train-labels-idx1-ubyte.gz\n",
      "WARNING:tensorflow:From c:\\Anaconda36\\lib\\site-packages\\tensorflow\\contrib\\learn\\python\\learn\\datasets\\mnist.py:110: dense_to_one_hot (from tensorflow.contrib.learn.python.learn.datasets.mnist) is deprecated and will be removed in a future version.\n",
      "Instructions for updating:\n",
      "Please use tf.one_hot on tensors.\n",
      "Extracting mnist_data/t10k-images-idx3-ubyte.gz\n",
      "Extracting mnist_data/t10k-labels-idx1-ubyte.gz\n",
      "WARNING:tensorflow:From c:\\Anaconda36\\lib\\site-packages\\tensorflow\\contrib\\learn\\python\\learn\\datasets\\mnist.py:290: DataSet.__init__ (from tensorflow.contrib.learn.python.learn.datasets.mnist) is deprecated and will be removed in a future version.\n",
      "Instructions for updating:\n",
      "Please use alternatives such as official/mnist/dataset.py from tensorflow/models.\n"
     ]
    }
   ],
   "source": [
    "# retrieve MNIST data\n",
    "mnist = input_data.read_data_sets(\"mnist_data/\", one_hot=True)"
   ]
  },
  {
   "cell_type": "markdown",
   "metadata": {},
   "source": [
    "In order to test incremental updating, we divide the MNIST training dataset into a number of subsets. Below is a utility to generate minibatches of those subets to make training simpler."
   ]
  },
  {
   "cell_type": "code",
   "execution_count": 3,
   "metadata": {
    "collapsed": true
   },
   "outputs": [],
   "source": [
    "# define generator for easily accessing subsets of our mnist data\n",
    "from random import shuffle\n",
    "\n",
    "class mnist_subset(object):\n",
    "    def __init__(self, set_id, batch_size):\n",
    "        self.n_items = 5500  # 55k samples in 10 sets\n",
    "        self.batch_size = batch_size\n",
    "        self.n_batches = self.n_items // batch_size\n",
    "        self.start_idx = self.n_items*set_id\n",
    "        self.end_idx = self.start_idx+self.n_items\n",
    "        self.images = mnist.train.images[self.start_idx:self.end_idx]\n",
    "        self.labels = mnist.train.labels[self.start_idx:self.end_idx]\n",
    "        self.idxs = list(range(self.start_idx, self.end_idx))\n",
    "        self.epochs = 0\n",
    "        self.on_epoch_end()\n",
    "        \n",
    "    def on_epoch_end(self):\n",
    "        # shuffle and make new batches\n",
    "        shuffle(self.idxs)\n",
    "        g = lambda x: x*self.batch_size\n",
    "        self.batch_idxs = [self.idxs[g(i):g(i+1)] for i in range(self.n_batches+1)]\n",
    "        self.epochs += 1\n",
    "        \n",
    "    def next_batch(self):\n",
    "        if len(self.batch_idxs) < 1:\n",
    "            self.on_epoch_end()\n",
    "        idxs = self.batch_idxs.pop()\n",
    "        features = mnist.train.images[idxs]\n",
    "        labels = mnist.train.labels[idxs]\n",
    "        return features, labels\n",
    "    \n",
    "    def __len__(self):\n",
    "        return self.n_batches\n",
    "    \n",
    "    def __iter__(self):\n",
    "        return self\n",
    "    \n",
    "    def __next__(self):\n",
    "        prev_epoch = self.epochs\n",
    "        batch = self.next_batch()\n",
    "        curr_epoch = self.epochs\n",
    "        if prev_epoch == curr_epoch:\n",
    "            return batch\n",
    "        else:\n",
    "            raise StopIteration()"
   ]
  },
  {
   "cell_type": "markdown",
   "metadata": {},
   "source": [
    "## Build and Incrementally Train a Neural Network"
   ]
  },
  {
   "cell_type": "markdown",
   "metadata": {},
   "source": [
    "Our first task is to build a standard neural network and then incrementally train it on each subset of our training data to serve as a baseline for comparison. We expect that the network will suffer from overfitting.\n",
    "\n",
    "The basic TensorFlow code for building a small neural network and training it on MNIST follows much of the skeleton of https://www.tensorflow.org/versions/r1.1/get_started/mnist/pros. For those without a background in Tensorflow, it would likely make a good companion guide for understanding how we use the Tensorflow framework here."
   ]
  },
  {
   "cell_type": "markdown",
   "metadata": {},
   "source": [
    "#### tf.InteractiveSession()\n",
    "\n",
    "We will start an `InteractiveSession` in order to make tensorflow easier to use. Normally, we first define a compute graph and then launch it in a session. With an interactive session we can be more flexible."
   ]
  },
  {
   "cell_type": "code",
   "execution_count": 4,
   "metadata": {
    "collapsed": true
   },
   "outputs": [],
   "source": [
    "tf.reset_default_graph()\n",
    "sess = tf.InteractiveSession()\n",
    "tf.set_random_seed(42)"
   ]
  },
  {
   "cell_type": "markdown",
   "metadata": {},
   "source": [
    "#### Define a Simple Neural Network"
   ]
  },
  {
   "cell_type": "code",
   "execution_count": 5,
   "metadata": {
    "collapsed": true
   },
   "outputs": [],
   "source": [
    "# placeholder variables that will be filled with our input data and labels when doing computations\n",
    "x = tf.placeholder(tf.float32, shape=[None, 784])  # MNIST images are 28*28\n",
    "y_ = tf.placeholder(tf.float32, shape=[None, 10])  # 10 classes with one-hot encoding"
   ]
  },
  {
   "cell_type": "code",
   "execution_count": 6,
   "metadata": {
    "collapsed": true
   },
   "outputs": [],
   "source": [
    "# define the layers of our network - note that for code simplicity\n",
    "# and clarity, we do not include many best-practices\n",
    "\n",
    "l1_width = 64\n",
    "l2_width = 16\n",
    "\n",
    "# layer 1\n",
    "w_1 = tf.Variable(tf.truncated_normal(shape=[784, l1_width]), name='w_1')\n",
    "b_1 = tf.Variable(tf.zeros(shape=[l1_width]), name='b_1')\n",
    "h_1 = tf.nn.tanh(tf.matmul(x, w_1) + b_1)\n",
    "\n",
    "# layer 2\n",
    "w_2 = tf.Variable(tf.truncated_normal(shape=[l1_width, l2_width]), name='w_2')\n",
    "b_2 = tf.Variable(tf.zeros(shape=[l2_width]), name='b_2')\n",
    "h_2 = tf.nn.tanh(tf.matmul(h_1, w_2) + b_2)\n",
    "\n",
    "# layer 3\n",
    "w_3 = tf.Variable(tf.truncated_normal(shape=[l2_width, 10]), name='w_3')\n",
    "b_3 = tf.Variable(tf.zeros(shape=[10]), name='b_3')\n",
    "y = tf.matmul(h_2, w_3) + b_3"
   ]
  },
  {
   "cell_type": "markdown",
   "metadata": {},
   "source": [
    "#### Define Loss and Accuracy calculations"
   ]
  },
  {
   "cell_type": "code",
   "execution_count": 7,
   "metadata": {
    "collapsed": true
   },
   "outputs": [],
   "source": [
    "# define the loss function\n",
    "if tf_version >= 1.5:  # TensorFlow 1.5 deprecated the previous version of the function\n",
    "    cross_entropy = tf.reduce_mean(tf.nn.softmax_cross_entropy_with_logits_v2(labels=y_, logits=y))\n",
    "else:\n",
    "    cross_entropy = tf.reduce_mean(tf.nn.softmax_cross_entropy_with_logits(labels=y_, logits=y))\n",
    "    \n",
    "# invoke a simple SGD optimizer on the loss function\n",
    "train_step = tf.train.GradientDescentOptimizer(learning_rate=0.1).minimize(cross_entropy)\n",
    "\n",
    "# operation to calculate accuracy of the network\n",
    "correct_prediction = tf.equal(tf.argmax(y,1), tf.argmax(y_,1))\n",
    "accuracy = tf.reduce_mean(tf.cast(correct_prediction, tf.float32))"
   ]
  },
  {
   "cell_type": "markdown",
   "metadata": {},
   "source": [
    "#### Define Training function"
   ]
  },
  {
   "cell_type": "code",
   "execution_count": 8,
   "metadata": {
    "collapsed": true
   },
   "outputs": [],
   "source": [
    "def fit(data_generator, n_epochs=100, evaluation_frequency=10):\n",
    "    \n",
    "    # store history\n",
    "    train_accuracy_history = []\n",
    "    test_accuracy_history = []\n",
    "\n",
    "    start_time = time.time()\n",
    "\n",
    "    print('Training on {} samples...'.format(len(data_generator.images)))\n",
    "\n",
    "    for i in range(n_epochs):    \n",
    "\n",
    "        # training cycle\n",
    "        for batch in data_generator:\n",
    "\n",
    "            # run update step\n",
    "            train_step.run(feed_dict={x: batch[0], y_: batch[1]})\n",
    "\n",
    "        # evaluation and status update\n",
    "        print('Epoch: {}'.format(i+1), end='\\r')\n",
    "\n",
    "        if (i+1)%evaluation_frequency == 0:\n",
    "            # evaluate accuracy on training data\n",
    "            train_acc = accuracy.eval(feed_dict={x: data_generator.images, y_: data_generator.labels})*100\n",
    "            train_accuracy_history.append(train_acc)\n",
    "\n",
    "            # evaluate accuracy on test data\n",
    "            test_acc = accuracy.eval(feed_dict={x: mnist.test.images, y_: mnist.test.labels})*100\n",
    "            test_accuracy_history.append(test_acc)\n",
    "        \n",
    "        if (i+1)%(evaluation_frequency*2) == 0:\n",
    "            print('Epoch: {}\\t Train Accuracy: {:.1f}%\\t Test Accuracy: {:.1f}%'.format(i+1, train_acc, test_acc))\n",
    "\n",
    "    end_time = time.time()\n",
    "    delta_time = end_time-start_time\n",
    "    print('Training completed in {:.1f} seconds'.format(delta_time))\n",
    "    \n",
    "    return np.array(train_accuracy_history), np.array(test_accuracy_history)"
   ]
  },
  {
   "cell_type": "markdown",
   "metadata": {},
   "source": [
    "### Initialize the network and train on each data subset incrementally"
   ]
  },
  {
   "cell_type": "code",
   "execution_count": 9,
   "metadata": {
    "collapsed": true
   },
   "outputs": [],
   "source": [
    "# intialize all variables\n",
    "tf.global_variables_initializer().run()"
   ]
  },
  {
   "cell_type": "code",
   "execution_count": 10,
   "metadata": {
    "scrolled": false
   },
   "outputs": [
    {
     "name": "stdout",
     "output_type": "stream",
     "text": [
      "\n",
      "=== Subset 0 ===\n",
      "Training on 5500 samples...\n",
      "Epoch: 20\t Train Accuracy: 76.3%\t Test Accuracy: 66.9%\n",
      "Epoch: 40\t Train Accuracy: 84.1%\t Test Accuracy: 71.7%\n",
      "Epoch: 60\t Train Accuracy: 87.5%\t Test Accuracy: 74.3%\n",
      "Epoch: 80\t Train Accuracy: 89.6%\t Test Accuracy: 75.5%\n",
      "Epoch: 100\t Train Accuracy: 91.1%\t Test Accuracy: 76.4%\n",
      "Epoch: 120\t Train Accuracy: 92.2%\t Test Accuracy: 77.2%\n",
      "Epoch: 140\t Train Accuracy: 93.0%\t Test Accuracy: 77.6%\n",
      "Epoch: 160\t Train Accuracy: 93.7%\t Test Accuracy: 77.9%\n",
      "Epoch: 180\t Train Accuracy: 94.3%\t Test Accuracy: 78.1%\n",
      "Epoch: 200\t Train Accuracy: 94.7%\t Test Accuracy: 78.3%\n",
      "Training completed in 19.6 seconds\n",
      "\n",
      "=== Subset 1 ===\n",
      "Training on 5500 samples...\n",
      "Epoch: 20\t Train Accuracy: 88.7%\t Test Accuracy: 80.7%\n",
      "Epoch: 40\t Train Accuracy: 91.3%\t Test Accuracy: 81.3%\n",
      "Epoch: 60\t Train Accuracy: 92.5%\t Test Accuracy: 81.7%\n",
      "Epoch: 80\t Train Accuracy: 93.4%\t Test Accuracy: 82.0%\n",
      "Epoch: 100\t Train Accuracy: 94.1%\t Test Accuracy: 82.2%\n",
      "Epoch: 120\t Train Accuracy: 94.7%\t Test Accuracy: 82.4%\n",
      "Epoch: 140\t Train Accuracy: 95.1%\t Test Accuracy: 82.4%\n",
      "Epoch: 160\t Train Accuracy: 95.5%\t Test Accuracy: 82.5%\n",
      "Epoch: 180\t Train Accuracy: 95.7%\t Test Accuracy: 82.6%\n",
      "Epoch: 200\t Train Accuracy: 95.9%\t Test Accuracy: 82.8%\n",
      "Training completed in 19.6 seconds\n",
      "\n",
      "=== Subset 2 ===\n",
      "Training on 5500 samples...\n",
      "Epoch: 20\t Train Accuracy: 92.1%\t Test Accuracy: 83.5%\n",
      "Epoch: 40\t Train Accuracy: 93.6%\t Test Accuracy: 83.9%\n",
      "Epoch: 60\t Train Accuracy: 94.5%\t Test Accuracy: 84.2%\n",
      "Epoch: 80\t Train Accuracy: 95.0%\t Test Accuracy: 84.1%\n",
      "Epoch: 100\t Train Accuracy: 95.5%\t Test Accuracy: 84.1%\n",
      "Epoch: 120\t Train Accuracy: 95.8%\t Test Accuracy: 84.2%\n",
      "Epoch: 140\t Train Accuracy: 96.1%\t Test Accuracy: 84.2%\n",
      "Epoch: 160\t Train Accuracy: 96.4%\t Test Accuracy: 84.2%\n",
      "Epoch: 180\t Train Accuracy: 96.7%\t Test Accuracy: 84.3%\n",
      "Epoch: 200\t Train Accuracy: 96.8%\t Test Accuracy: 84.4%\n",
      "Training completed in 19.9 seconds\n",
      "\n",
      "=== Subset 3 ===\n",
      "Training on 5500 samples...\n",
      "Epoch: 20\t Train Accuracy: 92.7%\t Test Accuracy: 85.2%\n",
      "Epoch: 40\t Train Accuracy: 94.3%\t Test Accuracy: 85.5%\n",
      "Epoch: 60\t Train Accuracy: 95.2%\t Test Accuracy: 85.5%\n",
      "Epoch: 80\t Train Accuracy: 95.6%\t Test Accuracy: 85.6%\n",
      "Epoch: 100\t Train Accuracy: 95.9%\t Test Accuracy: 85.7%\n",
      "Epoch: 120\t Train Accuracy: 96.1%\t Test Accuracy: 85.7%\n",
      "Epoch: 140\t Train Accuracy: 96.4%\t Test Accuracy: 85.7%\n",
      "Epoch: 160\t Train Accuracy: 96.6%\t Test Accuracy: 85.7%\n",
      "Epoch: 180\t Train Accuracy: 96.9%\t Test Accuracy: 85.7%\n",
      "Epoch: 200\t Train Accuracy: 97.2%\t Test Accuracy: 85.6%\n",
      "Training completed in 19.6 seconds\n",
      "\n",
      "=== Subset 4 ===\n",
      "Training on 5500 samples...\n",
      "Epoch: 20\t Train Accuracy: 92.1%\t Test Accuracy: 86.8%\n",
      "Epoch: 40\t Train Accuracy: 94.1%\t Test Accuracy: 86.9%\n",
      "Epoch: 60\t Train Accuracy: 94.7%\t Test Accuracy: 87.1%\n",
      "Epoch: 80\t Train Accuracy: 95.4%\t Test Accuracy: 87.3%\n",
      "Epoch: 100\t Train Accuracy: 95.8%\t Test Accuracy: 87.2%\n",
      "Epoch: 120\t Train Accuracy: 96.1%\t Test Accuracy: 87.3%\n",
      "Epoch: 140\t Train Accuracy: 96.3%\t Test Accuracy: 87.4%\n",
      "Epoch: 160\t Train Accuracy: 96.6%\t Test Accuracy: 87.4%\n",
      "Epoch: 180\t Train Accuracy: 96.8%\t Test Accuracy: 87.3%\n",
      "Epoch: 200\t Train Accuracy: 97.1%\t Test Accuracy: 87.3%\n",
      "Training completed in 19.8 seconds\n",
      "\n",
      "=== Subset 5 ===\n",
      "Training on 5500 samples...\n",
      "Epoch: 20\t Train Accuracy: 94.5%\t Test Accuracy: 87.7%\n",
      "Epoch: 40\t Train Accuracy: 95.4%\t Test Accuracy: 87.7%\n",
      "Epoch: 60\t Train Accuracy: 95.9%\t Test Accuracy: 88.0%\n",
      "Epoch: 80\t Train Accuracy: 96.5%\t Test Accuracy: 88.0%\n",
      "Epoch: 100\t Train Accuracy: 96.9%\t Test Accuracy: 88.0%\n",
      "Epoch: 120\t Train Accuracy: 97.1%\t Test Accuracy: 88.1%\n",
      "Epoch: 140\t Train Accuracy: 97.3%\t Test Accuracy: 88.0%\n",
      "Epoch: 160\t Train Accuracy: 97.5%\t Test Accuracy: 88.0%\n",
      "Epoch: 180\t Train Accuracy: 97.6%\t Test Accuracy: 88.1%\n",
      "Epoch: 200\t Train Accuracy: 97.7%\t Test Accuracy: 87.9%\n",
      "Training completed in 19.3 seconds\n",
      "\n",
      "=== Subset 6 ===\n",
      "Training on 5500 samples...\n",
      "Epoch: 20\t Train Accuracy: 93.8%\t Test Accuracy: 88.6%\n",
      "Epoch: 40\t Train Accuracy: 95.1%\t Test Accuracy: 88.7%\n",
      "Epoch: 60\t Train Accuracy: 95.8%\t Test Accuracy: 88.9%\n",
      "Epoch: 80\t Train Accuracy: 96.2%\t Test Accuracy: 88.9%\n",
      "Epoch: 100\t Train Accuracy: 96.6%\t Test Accuracy: 88.7%\n",
      "Epoch: 120\t Train Accuracy: 96.8%\t Test Accuracy: 88.7%\n",
      "Epoch: 140\t Train Accuracy: 97.0%\t Test Accuracy: 88.7%\n",
      "Epoch: 160\t Train Accuracy: 97.2%\t Test Accuracy: 88.8%\n",
      "Epoch: 180\t Train Accuracy: 97.3%\t Test Accuracy: 88.7%\n",
      "Epoch: 200\t Train Accuracy: 97.4%\t Test Accuracy: 88.9%\n",
      "Training completed in 19.6 seconds\n",
      "\n",
      "=== Subset 7 ===\n",
      "Training on 5500 samples...\n",
      "Epoch: 20\t Train Accuracy: 94.3%\t Test Accuracy: 88.9%\n",
      "Epoch: 40\t Train Accuracy: 95.6%\t Test Accuracy: 88.9%\n",
      "Epoch: 60\t Train Accuracy: 96.1%\t Test Accuracy: 88.9%\n",
      "Epoch: 80\t Train Accuracy: 96.5%\t Test Accuracy: 88.9%\n",
      "Epoch: 100\t Train Accuracy: 96.8%\t Test Accuracy: 88.9%\n",
      "Epoch: 120\t Train Accuracy: 96.9%\t Test Accuracy: 89.0%\n",
      "Epoch: 140\t Train Accuracy: 97.2%\t Test Accuracy: 89.0%\n",
      "Epoch: 160\t Train Accuracy: 97.3%\t Test Accuracy: 89.1%\n",
      "Epoch: 180\t Train Accuracy: 97.6%\t Test Accuracy: 89.1%\n",
      "Epoch: 200\t Train Accuracy: 97.6%\t Test Accuracy: 88.9%\n",
      "Training completed in 20.2 seconds\n",
      "\n",
      "=== Subset 8 ===\n",
      "Training on 5500 samples...\n",
      "Epoch: 20\t Train Accuracy: 94.5%\t Test Accuracy: 89.3%\n",
      "Epoch: 40\t Train Accuracy: 95.6%\t Test Accuracy: 89.3%\n",
      "Epoch: 60\t Train Accuracy: 96.0%\t Test Accuracy: 89.5%\n",
      "Epoch: 80\t Train Accuracy: 96.4%\t Test Accuracy: 89.5%\n",
      "Epoch: 100\t Train Accuracy: 96.6%\t Test Accuracy: 89.4%\n",
      "Epoch: 120\t Train Accuracy: 96.7%\t Test Accuracy: 89.3%\n",
      "Epoch: 140\t Train Accuracy: 96.9%\t Test Accuracy: 89.5%\n",
      "Epoch: 160\t Train Accuracy: 97.1%\t Test Accuracy: 89.4%\n",
      "Epoch: 180\t Train Accuracy: 97.2%\t Test Accuracy: 89.5%\n",
      "Epoch: 200\t Train Accuracy: 97.3%\t Test Accuracy: 89.4%\n",
      "Training completed in 19.5 seconds\n",
      "\n",
      "=== Subset 9 ===\n",
      "Training on 5500 samples...\n",
      "Epoch: 20\t Train Accuracy: 96.0%\t Test Accuracy: 90.1%\n",
      "Epoch: 40\t Train Accuracy: 96.9%\t Test Accuracy: 90.1%\n",
      "Epoch: 60\t Train Accuracy: 97.3%\t Test Accuracy: 90.1%\n",
      "Epoch: 80\t Train Accuracy: 97.6%\t Test Accuracy: 90.1%\n",
      "Epoch: 100\t Train Accuracy: 97.8%\t Test Accuracy: 90.0%\n",
      "Epoch: 120\t Train Accuracy: 98.0%\t Test Accuracy: 90.0%\n",
      "Epoch: 140\t Train Accuracy: 98.2%\t Test Accuracy: 90.0%\n",
      "Epoch: 160\t Train Accuracy: 98.4%\t Test Accuracy: 90.0%\n",
      "Epoch: 180\t Train Accuracy: 98.5%\t Test Accuracy: 89.9%\n",
      "Epoch: 200\t Train Accuracy: 98.6%\t Test Accuracy: 89.8%\n",
      "Training completed in 19.6 seconds\n"
     ]
    }
   ],
   "source": [
    "n_epochs = 200\n",
    "batch_size = 100\n",
    "\n",
    "history = {'train': [], 'test': []}\n",
    "\n",
    "# 10 subsets of data\n",
    "for i in range(10):\n",
    "    \n",
    "    # get a generator for this subset\n",
    "    print('\\n=== Subset {} ==='.format(i))\n",
    "    data_subset = mnist_subset(i, batch_size)\n",
    "    \n",
    "    # call fit with the current subset\n",
    "    hist = fit(data_subset, n_epochs=n_epochs)\n",
    "    \n",
    "    # log performance to compare methods\n",
    "    history['train'].append(hist[0])\n",
    "    history['test'].append(hist[1])\n",
    "    \n",
    "history['train'] = np.array(history['train']).ravel()\n",
    "history['test'] = np.array(history['test']).ravel()"
   ]
  },
  {
   "cell_type": "code",
   "execution_count": 11,
   "metadata": {},
   "outputs": [
    {
     "data": {
      "image/png": "[encoded data removed]",
      "text/plain": [
       "<Figure size 864x288 with 1 Axes>"
      ]
     },
     "metadata": {},
     "output_type": "display_data"
    }
   ],
   "source": [
    "plt.figure(figsize=(12,4))\n",
    "plt.plot(history['train'], label='train accuracy')\n",
    "plt.plot(history['test'], label='test accuracy')\n",
    "plt.legend()\n",
    "plt.ylim(50,100)\n",
    "plt.title('Traditional NN Incremental Training');"
   ]
  },
  {
   "cell_type": "markdown",
   "metadata": {},
   "source": [
    "## Build and Incrementally Train a Neural Network with Variational Inference"
   ]
  },
  {
   "cell_type": "markdown",
   "metadata": {},
   "source": [
    "#### Clear the graph and get a new session"
   ]
  },
  {
   "cell_type": "code",
   "execution_count": 12,
   "metadata": {
    "collapsed": true
   },
   "outputs": [],
   "source": [
    "tf.reset_default_graph()\n",
    "sess = tf.InteractiveSession()\n",
    "tf.set_random_seed(42)"
   ]
  },
  {
   "cell_type": "markdown",
   "metadata": {},
   "source": [
    "#### Define a traditional neural network and its Bayesian counterpart"
   ]
  },
  {
   "cell_type": "code",
   "execution_count": 13,
   "metadata": {
    "collapsed": true
   },
   "outputs": [],
   "source": [
    "# placeholder variables that will be filled with our input data and labels when doing computations\n",
    "x = tf.placeholder(tf.float32, shape=[None, 784])  # MNIST images are 28*28\n",
    "y_ = tf.placeholder(tf.float32, shape=[None, 10])  # 10 classes with one-hot encoding\n",
    "y_cat_ = tf.placeholder(tf.int32, [None])  #  the Categorical distribution doe not use one-hot encoding"
   ]
  },
  {
   "cell_type": "markdown",
   "metadata": {},
   "source": [
    "We build the traditional neural network and bayesian incantation side-by-side. The bayesian network is initialized with gaussian priors which are centered at the value of their corresponding parameter in the traditional neural network."
   ]
  },
  {
   "cell_type": "code",
   "execution_count": 14,
   "metadata": {
    "collapsed": true
   },
   "outputs": [],
   "source": [
    "# layer 1\n",
    "w_1 = tf.Variable(tf.truncated_normal(shape=[784, l1_width]), name='w_1')\n",
    "b_1 = tf.Variable(tf.zeros(shape=[l1_width]), name='b_1')\n",
    "h_1 = tf.nn.tanh(tf.matmul(x, w_1) + b_1)\n",
    "\n",
    "# layer 2\n",
    "w_2 = tf.Variable(tf.truncated_normal(shape=[l1_width, l2_width]), name='w_2')\n",
    "b_2 = tf.Variable(tf.zeros(shape=[l2_width]), name='b_2')\n",
    "h_2 = tf.nn.tanh(tf.matmul(h_1, w_2) + b_2)\n",
    "\n",
    "# output layer\n",
    "w_3 = tf.Variable(tf.truncated_normal(shape=[l2_width, 10]), name='w_3')\n",
    "b_3 = tf.Variable(tf.zeros(shape=[10]), name='b_3')\n",
    "y = tf.matmul(h_2, w_3) + b_3"
   ]
  },
  {
   "cell_type": "code",
   "execution_count": 15,
   "metadata": {
    "collapsed": true
   },
   "outputs": [],
   "source": [
    "# define the loss function\n",
    "if tf_version >= 1.5:  # TensorFlow 1.5 deprecated the previous version of the function\n",
    "    cross_entropy = tf.reduce_mean(tf.nn.softmax_cross_entropy_with_logits_v2(labels=y_, logits=y))\n",
    "else:\n",
    "    cross_entropy = tf.reduce_mean(tf.nn.softmax_cross_entropy_with_logits(labels=y_, logits=y))\n",
    "    \n",
    "# invoke an SGD optimizer on the loss function\n",
    "train_step = tf.train.GradientDescentOptimizer(learning_rate=0.1).minimize(cross_entropy)\n",
    "\n",
    "# operation to calculate accuracy of the network\n",
    "correct_prediction = tf.equal(tf.argmax(y,1), tf.argmax(y_,1))\n",
    "accuracy = tf.reduce_mean(tf.cast(correct_prediction, tf.float32))"
   ]
  },
  {
   "cell_type": "markdown",
   "metadata": {},
   "source": [
    "So far this should look like the neural network we build earlier. However, next we build the Bayesian network to be fitted with Variational Inference. The first step is to define the model with priors. This is almost identical to the above network, except that rather than using trainable variables for the weights and biases we use Gaussian distributions. We also initialize those distributions using the trained weights and biases of the above network, saving the step of manually shuffling that data around."
   ]
  },
  {
   "cell_type": "code",
   "execution_count": 16,
   "metadata": {
    "collapsed": true
   },
   "outputs": [],
   "source": [
    "# here the Bayesian model and its priors are defined\n",
    "# their centers are the traditional neural network parameters\n",
    "# and so will adjust as we train the traditional neural network\n",
    "\n",
    "# layer 1\n",
    "bw_1 = Normal(loc=w_1, scale=tf.ones([784, l1_width]))\n",
    "bb_1 = Normal(loc=b_1, scale=tf.ones(l1_width))\n",
    "bh_1 = tf.nn.tanh(tf.matmul(x,bw_1)+bb_1)\n",
    "\n",
    "# layer 2\n",
    "bw_2 = Normal(loc=w_2, scale=tf.ones([l1_width, l2_width]))\n",
    "bb_2 = Normal(loc=b_2, scale=tf.ones(l2_width))\n",
    "bh_2 = tf.nn.tanh(tf.matmul(bh_1,bw_2)+bb_2)\n",
    "\n",
    "# layer 2\n",
    "bw_3 = Normal(loc=w_3, scale=tf.ones([l2_width, 10]))\n",
    "bb_3 = Normal(loc=b_3, scale=tf.ones(10))\n",
    "bh_3 = Deterministic(tf.nn.softmax(tf.matmul(bh_2,bw_3)+bb_3))\n",
    "\n",
    "# categorical likelihood for classification\n",
    "y_cat = Categorical(probs=bh_3)\n",
    "\n",
    "# operation to calculate accuracy of the network.\n",
    "correct_prediction = tf.equal(tf.argmax(y,1), tf.argmax(y_,1))\n",
    "accuracy = tf.reduce_mean(tf.cast(correct_prediction, tf.float32))"
   ]
  },
  {
   "cell_type": "markdown",
   "metadata": {},
   "source": [
    "Now that we have the model and priors constructed, we need to set up the Variational Inference mechanism. We again use Gaussian distributions for each weight and bias in our model.\n",
    "\n",
    "Note that `tf.get_variable()` and `tf.Variable` both create variables and the use of the former here is simply because we do not need an initializer."
   ]
  },
  {
   "cell_type": "code",
   "execution_count": 17,
   "metadata": {
    "collapsed": true
   },
   "outputs": [],
   "source": [
    "# construct q(w) and q(b) assuming normal distributions   \n",
    "\n",
    "# layer 1\n",
    "qw_1 = Normal(loc=tf.get_variable('qw1l', [784, l1_width]),\n",
    "              scale=tf.nn.softplus(tf.get_variable('qw1s', [784, l1_width])))\n",
    "qb_1 = Normal(loc=tf.get_variable('qb1l', [l1_width]),\n",
    "              scale=tf.nn.softplus(tf.get_variable('qb1s', [l1_width])))\n",
    "\n",
    "# layer 2\n",
    "qw_2 = Normal(loc=tf.get_variable('qw2l', [l1_width, l2_width]),\n",
    "              scale=tf.nn.softplus(tf.get_variable('qw2s', [l1_width, l2_width])))\n",
    "qb_2 = Normal(loc=tf.get_variable('qb2l', [l2_width]),\n",
    "              scale=tf.nn.softplus(tf.get_variable('qb2s', [l2_width])))\n",
    "\n",
    "# layer 3\n",
    "qw_3 = Normal(loc=tf.get_variable('qw3l', [l2_width, 10]),\n",
    "              scale=tf.nn.softplus(tf.get_variable('qw3s', [l2_width,10])))\n",
    "qb_3 = Normal(loc=tf.get_variable('qb3l', [10]),\n",
    "              scale=tf.nn.softplus(tf.get_variable('qb3s', [10])))\n",
    "\n",
    "\n",
    "# define variational inference technique, ie minimizze KL-divergence\n",
    "inference = ed.KLqp({bw_1: qw_1, bb_1: qb_1,\n",
    "                     bw_2: qw_2, bb_2: qb_2,\n",
    "                     bw_3: qw_3, bb_3: qb_3}, data={y_cat: y_cat_})   "
   ]
  },
  {
   "cell_type": "code",
   "execution_count": 19,
   "metadata": {
    "collapsed": true
   },
   "outputs": [],
   "source": [
    "# initialize inference variables\n",
    "inference.initialize(n_samples=10, n_iter=9900, n_print=10, scale={y: 110})\n",
    "\n",
    "# initialize any remaining variables\n",
    "tf.global_variables_initializer().run()"
   ]
  },
  {
   "cell_type": "markdown",
   "metadata": {},
   "source": [
    "### Pre-Train the DNN on the first set\n",
    "\n",
    "The code below closely mirrors our `fit` function defined earlier, but that function will not run now because it was defined on a different compute graph."
   ]
  },
  {
   "cell_type": "code",
   "execution_count": 20,
   "metadata": {},
   "outputs": [
    {
     "name": "stdout",
     "output_type": "stream",
     "text": [
      "Epoch: 200\t Train Accuracy: 95.3%\t Test Accuracy: 77.9%\r"
     ]
    }
   ],
   "source": [
    "n_epochs = 200\n",
    "batch_size = 100\n",
    "\n",
    "accuracy_eval_frequency = 10\n",
    "\n",
    "history_with_vi = {'train': [], 'test': []}\n",
    "\n",
    "# instantiate out data generator\n",
    "data_generator = mnist_subset(set_id=0, batch_size=batch_size)\n",
    "\n",
    "for i in range(n_epochs):    \n",
    "\n",
    "        # training cycle\n",
    "        for batch in data_generator:\n",
    "\n",
    "            # run update step\n",
    "            train_step.run(feed_dict={x: batch[0], y_: batch[1]})\n",
    "\n",
    "        if (i+1)% accuracy_eval_frequency == 0:\n",
    "\n",
    "            # evaluate accuracy on training data\n",
    "            train_acc = accuracy.eval(feed_dict={x: data_generator.images, y_: data_generator.labels})*100\n",
    "\n",
    "            # evaluate accuracy on test data\n",
    "            test_acc = accuracy.eval(feed_dict={x: mnist.test.images, y_: mnist.test.labels})*100\n",
    "\n",
    "            history_with_vi['train'].append(train_acc)\n",
    "            history_with_vi['test'].append(test_acc)\n",
    "            \n",
    "            print('Epoch: {}\\t Train Accuracy: {:.1f}%\\t Test Accuracy: {:.1f}%'.format(i+1, train_acc, test_acc), end='\\r')"
   ]
  },
  {
   "cell_type": "markdown",
   "metadata": {},
   "source": [
    "If we check our priors for the bayesian network, they should now be centered on the parameters we just trained. This is because of how we built our model earlier."
   ]
  },
  {
   "cell_type": "code",
   "execution_count": 21,
   "metadata": {},
   "outputs": [
    {
     "name": "stdout",
     "output_type": "stream",
     "text": [
      "DNN:   [-0.1669705  -0.31707215  1.5395615   0.6512148   0.5023164 ] \n",
      "Prior: [-0.1669705  -0.31707215  1.5395615   0.6512148   0.5023164 ]\n"
     ]
    }
   ],
   "source": [
    "print('DNN:  ', w_1.eval()[0,:5], '\\nPrior:',bw_1.loc.eval()[0,:5])"
   ]
  },
  {
   "cell_type": "markdown",
   "metadata": {},
   "source": [
    "### Apply Variational Inference on subsequent subsets"
   ]
  },
  {
   "cell_type": "code",
   "execution_count": 22,
   "metadata": {
    "scrolled": false
   },
   "outputs": [
    {
     "name": "stdout",
     "output_type": "stream",
     "text": [
      "\n",
      "=== Subset 1 ===\n",
      "1100/9720 [ 11%] ███                            ETA: 449s | Loss: 156.072\n",
      "Train Accuracy: 92.3%\t Test Accuracy: 90.5%\n",
      "\n",
      "=== Subset 2 ===\n",
      "2200/9720 [ 22%] ██████                         ETA: 299s | Loss: 79.360 \n",
      "Train Accuracy: 94.1%\t Test Accuracy: 92.0%\n",
      "\n",
      "=== Subset 3 ===\n",
      "3300/9720 [ 33%] ██████████                     ETA: 232s | Loss: 62.526\n",
      "Train Accuracy: 94.1%\t Test Accuracy: 92.7%\n",
      "\n",
      "=== Subset 4 ===\n",
      "4400/9720 [ 45%] █████████████                  ETA: 181s | Loss: 155.000\n",
      "Train Accuracy: 92.8%\t Test Accuracy: 93.0%\n",
      "\n",
      "=== Subset 5 ===\n",
      "5500/9720 [ 56%] ████████████████               ETA: 138s | Loss: 47.757\n",
      "Train Accuracy: 93.6%\t Test Accuracy: 93.2%\n",
      "\n",
      "=== Subset 6 ===\n",
      "6600/9720 [ 67%] ████████████████████           ETA: 100s | Loss: 111.447\n",
      "Train Accuracy: 92.6%\t Test Accuracy: 93.2%\n",
      "\n",
      "=== Subset 7 ===\n",
      "7700/9720 [ 79%] ███████████████████████        ETA: 64s | Loss: 101.986\n",
      "Train Accuracy: 92.1%\t Test Accuracy: 93.3%\n",
      "\n",
      "=== Subset 8 ===\n",
      "8800/9720 [ 90%] ███████████████████████████    ETA: 28s | Loss: 114.560\n",
      "Train Accuracy: 92.1%\t Test Accuracy: 93.3%\n",
      "\n",
      "=== Subset 9 ===\n",
      "9720/9720 [100%] ██████████████████████████████ Elapsed: 304s | Loss: 113.569\n",
      "9730/9720 [100%] ██████████████████████████████ Elapsed: 304s | Loss: 84.405 \n",
      "9740/9720 [100%] ██████████████████████████████ Elapsed: 304s | Loss: 88.031\n",
      "9750/9720 [100%] ██████████████████████████████ Elapsed: 306s | Loss: 50.364\n",
      "9760/9720 [100%] ██████████████████████████████ Elapsed: 306s | Loss: 51.575\n",
      "9770/9720 [100%] ██████████████████████████████ Elapsed: 306s | Loss: 92.742\n",
      "9780/9720 [100%] ██████████████████████████████ Elapsed: 306s | Loss: 63.193\n",
      "9790/9720 [100%] ██████████████████████████████ Elapsed: 306s | Loss: 40.514\n",
      "9800/9720 [100%] ██████████████████████████████ Elapsed: 307s | Loss: 57.731\n",
      "9810/9720 [100%] ██████████████████████████████ Elapsed: 307s | Loss: 73.897\n",
      "9820/9720 [101%] ██████████████████████████████ Elapsed: 307s | Loss: 57.794\n",
      "9830/9720 [101%] ██████████████████████████████ Elapsed: 307s | Loss: 115.972\n",
      "9840/9720 [101%] ██████████████████████████████ Elapsed: 308s | Loss: 65.433 \n",
      "9850/9720 [101%] ██████████████████████████████ Elapsed: 308s | Loss: 77.996\n",
      "9860/9720 [101%] ██████████████████████████████ Elapsed: 309s | Loss: 56.791\n",
      "9870/9720 [101%] ██████████████████████████████ Elapsed: 309s | Loss: 101.605\n",
      "9880/9720 [101%] ██████████████████████████████ Elapsed: 309s | Loss: 71.809 \n",
      "9890/9720 [101%] ██████████████████████████████ Elapsed: 309s | Loss: 53.592\n",
      "9900/9720 [101%] ██████████████████████████████ Elapsed: 309s | Loss: 67.585\n",
      "\n",
      "Train Accuracy: 94.7%\t Test Accuracy: 93.3%\n",
      "Training completed in 282.7 seconds\n"
     ]
    }
   ],
   "source": [
    "accuracy_eval_frequency = 10\n",
    "\n",
    "start_time = time.time()\n",
    "\n",
    "for i in range(1,10):\n",
    "    \n",
    "    # get data for this subset\n",
    "    print('\\n=== Subset {} ==='.format(i))\n",
    "    data_generator = mnist_subset(i, batch_size)\n",
    "\n",
    "    # do variational inference on this subset\n",
    "    for epoch in range(20):\n",
    "        \n",
    "        for batch in data_generator:\n",
    "            # convert one-hot encoding to single label\n",
    "            y_batch = np.argmax(batch[1], axis=1)\n",
    "            info_dict = inference.update(feed_dict={x: batch[0], y_cat_: y_batch})\n",
    "            inference.print_progress(info_dict)\n",
    "\n",
    "        # update our dnn weights\n",
    "        w_1.assign(qw_1.loc).eval()\n",
    "        b_1.assign(qb_1.loc).eval()\n",
    "        w_2.assign(qw_2.loc).eval()\n",
    "        b_2.assign(qb_2.loc).eval()\n",
    "        w_3.assign(qw_3.loc).eval()\n",
    "        b_3.assign(qb_3.loc).eval()\n",
    "\n",
    "        # evaluate accuracy on training data\n",
    "        train_acc = accuracy.eval(feed_dict={x: data_generator.images, y_: data_generator.labels})*100\n",
    "\n",
    "        # evaluate accuracy on test data\n",
    "        test_acc = accuracy.eval(feed_dict={x: mnist.test.images, y_: mnist.test.labels})*100\n",
    "\n",
    "        history_with_vi['train'].append(train_acc)\n",
    "        history_with_vi['test'].append(test_acc)\n",
    "\n",
    "    print('\\nTrain Accuracy: {:.1f}%\\t Test Accuracy: {:.1f}%'.format(train_acc, test_acc))\n",
    "\n",
    "end_time = time.time()\n",
    "delta_time = end_time-start_time\n",
    "print('Training completed in {:.1f} seconds'.format(delta_time))\n",
    "\n",
    "history_with_vi['train'] = np.array(history_with_vi['train']).ravel()\n",
    "history_with_vi['test'] = np.array(history_with_vi['test']).ravel()"
   ]
  },
  {
   "cell_type": "code",
   "execution_count": 23,
   "metadata": {},
   "outputs": [
    {
     "data": {
      "image/png": "[encoded data removed]",
      "text/plain": [
       "<Figure size 864x288 with 1 Axes>"
      ]
     },
     "metadata": {},
     "output_type": "display_data"
    }
   ],
   "source": [
    "plt.figure(figsize=(12,4))\n",
    "plt.plot(history_with_vi['train'], label='train accuracy')\n",
    "plt.plot(history_with_vi['test'], label='test accuracy')\n",
    "plt.legend()\n",
    "plt.ylim(50,100)\n",
    "plt.title('Bayesian Incremental Training');"
   ]
  },
  {
   "cell_type": "markdown",
   "metadata": {},
   "source": [
    "# Comparison of Methods"
   ]
  },
  {
   "cell_type": "markdown",
   "metadata": {},
   "source": [
    "## Bayesian vs. Non-Bayesian Incremental Learning"
   ]
  },
  {
   "cell_type": "code",
   "execution_count": 24,
   "metadata": {},
   "outputs": [
    {
     "data": {
      "image/png": "[encoded data removed]",
      "text/plain": [
       "<Figure size 864x288 with 1 Axes>"
      ]
     },
     "metadata": {},
     "output_type": "display_data"
    }
   ],
   "source": [
    "plt.figure(figsize=(12,4))\n",
    "plt.plot(history['test'], label='No VI')\n",
    "plt.plot(history_with_vi['test'], label='With VI')\n",
    "plt.legend()\n",
    "plt.title('Non-Baysian Incremental Training vs Incremental Updating via Variational Inference');"
   ]
  },
  {
   "cell_type": "markdown",
   "metadata": {},
   "source": [
    "We see that the VI method makes a large dip at the beginning. This is likely due to poor choices for SD priors. A grid search could be used to optimize this, however we see that the network quickly arrives at good values so we are not concerned about it in this case.\n",
    "\n",
    "Otherwise, we see that the VI method much more quickly converges and performs significantly better than the traditional method."
   ]
  },
  {
   "cell_type": "markdown",
   "metadata": {},
   "source": [
    "## Comparison with Variational Inference Only"
   ]
  },
  {
   "cell_type": "markdown",
   "metadata": {},
   "source": [
    "Now we will perform incremental variational inference without pre-training the deep neural network. This is almost identical to the above, except our priors for the bayesian neural network are centered at zero and we do not do any training of the non-Bayesian network."
   ]
  },
  {
   "cell_type": "code",
   "execution_count": 25,
   "metadata": {
    "collapsed": true
   },
   "outputs": [],
   "source": [
    "tf.reset_default_graph()\n",
    "sess = tf.InteractiveSession()\n",
    "tf.set_random_seed(42)"
   ]
  },
  {
   "cell_type": "code",
   "execution_count": 26,
   "metadata": {
    "collapsed": true
   },
   "outputs": [],
   "source": [
    "# placeholder variables that will be filled with our input data and labels when doing computations\n",
    "x = tf.placeholder(tf.float32, shape=[None, 784])  # MNIST images are 28*28\n",
    "y_ = tf.placeholder(tf.float32, shape=[None, 10])  # 10 classes with one-hot encoding\n",
    "y_cat_ = tf.placeholder(tf.int32, [None])  #  the Categorical distribution doe not use one-hot encoding"
   ]
  },
  {
   "cell_type": "code",
   "execution_count": 27,
   "metadata": {
    "collapsed": true
   },
   "outputs": [],
   "source": [
    "# layer 1\n",
    "w_1 = tf.Variable(tf.truncated_normal(shape=[784, l1_width]), name='w_1')\n",
    "b_1 = tf.Variable(tf.zeros(shape=[l1_width]), name='b_1')\n",
    "h_1 = tf.nn.tanh(tf.matmul(x, w_1) + b_1)\n",
    "\n",
    "# layer 2\n",
    "w_2 = tf.Variable(tf.truncated_normal(shape=[l1_width, l2_width]), name='w_2')\n",
    "b_2 = tf.Variable(tf.zeros(shape=[l2_width]), name='b_2')\n",
    "h_2 = tf.nn.tanh(tf.matmul(h_1, w_2) + b_2)\n",
    "\n",
    "# output layer\n",
    "w_3 = tf.Variable(tf.truncated_normal(shape=[l2_width, 10]), name='w_3')\n",
    "b_3 = tf.Variable(tf.zeros(shape=[10]), name='b_3')\n",
    "y = tf.matmul(h_2, w_3) + b_3"
   ]
  },
  {
   "cell_type": "code",
   "execution_count": 28,
   "metadata": {
    "collapsed": true
   },
   "outputs": [],
   "source": [
    "# define the loss function\n",
    "if tf_version >= 1.5:  # TensorFlow 1.5 deprecated the previous version of the function\n",
    "    cross_entropy = tf.reduce_mean(tf.nn.softmax_cross_entropy_with_logits_v2(labels=y_, logits=y))\n",
    "else:\n",
    "    cross_entropy = tf.reduce_mean(tf.nn.softmax_cross_entropy_with_logits(labels=y_, logits=y))\n",
    "    \n",
    "# invoke an SGD optimizer on the loss function\n",
    "train_step = tf.train.GradientDescentOptimizer(learning_rate=0.1).minimize(cross_entropy)\n",
    "\n",
    "# operation to calculate accuracy of the network\n",
    "correct_prediction = tf.equal(tf.argmax(y,1), tf.argmax(y_,1))\n",
    "accuracy = tf.reduce_mean(tf.cast(correct_prediction, tf.float32))"
   ]
  },
  {
   "cell_type": "code",
   "execution_count": 31,
   "metadata": {
    "collapsed": true
   },
   "outputs": [],
   "source": [
    "# here the Bayesian model and its priors are defined\n",
    "# their centers are ZERO\n",
    "\n",
    "# layer 1\n",
    "bw_1 = Normal(loc=tf.zeros([784, l1_width]), scale=tf.ones([784, l1_width]))\n",
    "bb_1 = Normal(loc=tf.zeros(l1_width), scale=tf.ones(l1_width))\n",
    "bh_1 = tf.nn.tanh(tf.matmul(x,bw_1)+bb_1)\n",
    "\n",
    "# layer 2\n",
    "bw_2 = Normal(loc=tf.zeros([l1_width,l2_width]), scale=tf.ones([l1_width, l2_width]))\n",
    "bb_2 = Normal(loc=tf.zeros(l2_width), scale=tf.ones(l2_width))\n",
    "bh_2 = tf.nn.tanh(tf.matmul(bh_1,bw_2)+bb_2)\n",
    "\n",
    "# layer 2\n",
    "bw_3 = Normal(loc=tf.zeros([l2_width,10]), scale=tf.ones([l2_width, 10]))\n",
    "bb_3 = Normal(loc=tf.zeros(10), scale=tf.ones(10))\n",
    "bh_3 = Deterministic(tf.nn.softmax(tf.matmul(bh_2,bw_3)+bb_3))\n",
    "\n",
    "# categorical likelihood for classification\n",
    "y_cat = Categorical(probs=bh_3)\n",
    "\n",
    "# operation to calculate accuracy of the network.\n",
    "correct_prediction = tf.equal(tf.argmax(y,1), tf.argmax(y_,1))\n",
    "accuracy = tf.reduce_mean(tf.cast(correct_prediction, tf.float32))"
   ]
  },
  {
   "cell_type": "code",
   "execution_count": 32,
   "metadata": {
    "collapsed": true
   },
   "outputs": [],
   "source": [
    "# construct q(w) and q(b) assuming normal distributions   \n",
    "\n",
    "# layer 1\n",
    "qw_1 = Normal(loc=tf.get_variable('qw1l', [784, l1_width]),\n",
    "              scale=tf.nn.softplus(tf.get_variable('qw1s', [784, l1_width])))\n",
    "qb_1 = Normal(loc=tf.get_variable('qb1l', [l1_width]),\n",
    "              scale=tf.nn.softplus(tf.get_variable('qb1s', [l1_width])))\n",
    "\n",
    "# layer 2\n",
    "qw_2 = Normal(loc=tf.get_variable('qw2l', [l1_width, l2_width]),\n",
    "              scale=tf.nn.softplus(tf.get_variable('qw2s', [l1_width, l2_width])))\n",
    "qb_2 = Normal(loc=tf.get_variable('qb2l', [l2_width]),\n",
    "              scale=tf.nn.softplus(tf.get_variable('qb2s', [l2_width])))\n",
    "\n",
    "# layer 3\n",
    "qw_3 = Normal(loc=tf.get_variable('qw3l', [l2_width, 10]),\n",
    "              scale=tf.nn.softplus(tf.get_variable('qw3s', [l2_width,10])))\n",
    "qb_3 = Normal(loc=tf.get_variable('qb3l', [10]),\n",
    "              scale=tf.nn.softplus(tf.get_variable('qb3s', [10])))\n",
    "\n",
    "\n",
    "# define variational inference technique, ie minimizze KL-divergence\n",
    "inference = ed.KLqp({bw_1: qw_1, bb_1: qb_1,\n",
    "                     bw_2: qw_2, bb_2: qb_2,\n",
    "                     bw_3: qw_3, bb_3: qb_3}, data={y_cat: y_cat_})   "
   ]
  },
  {
   "cell_type": "code",
   "execution_count": 36,
   "metadata": {
    "collapsed": true
   },
   "outputs": [],
   "source": [
    "# initialize inference variables\n",
    "inference.initialize(n_samples=10, n_iter=11000, n_print=10, scale={y: 110})\n",
    "\n",
    "# initialize any remaining variables\n",
    "tf.global_variables_initializer().run()"
   ]
  },
  {
   "cell_type": "code",
   "execution_count": 37,
   "metadata": {},
   "outputs": [
    {
     "name": "stdout",
     "output_type": "stream",
     "text": [
      "\n",
      "=== Subset 0 ===\n",
      " 1100/11000 [ 10%] ███                            ETA: 449s | Loss: 463.978\n",
      "Train Accuracy: 10.7%\t Test Accuracy: 9.9%\n",
      "\n",
      "=== Subset 1 ===\n",
      " 2200/11000 [ 20%] ██████                         ETA: 347s | Loss: 433.281\n",
      "Train Accuracy: 11.3%\t Test Accuracy: 11.3%\n",
      "\n",
      "=== Subset 2 ===\n",
      " 3300/11000 [ 30%] █████████                      ETA: 289s | Loss: 410.236\n",
      "Train Accuracy: 11.8%\t Test Accuracy: 11.3%\n",
      "\n",
      "=== Subset 3 ===\n",
      " 4400/11000 [ 40%] ████████████                   ETA: 243s | Loss: 414.848\n",
      "Train Accuracy: 11.4%\t Test Accuracy: 11.3%\n",
      "\n",
      "=== Subset 4 ===\n",
      " 5500/11000 [ 50%] ███████████████                ETA: 200s | Loss: 403.409\n",
      "Train Accuracy: 11.5%\t Test Accuracy: 11.3%\n",
      "\n",
      "=== Subset 5 ===\n",
      " 6600/11000 [ 60%] ██████████████████             ETA: 159s | Loss: 398.908\n",
      "Train Accuracy: 11.1%\t Test Accuracy: 11.3%\n",
      "\n",
      "=== Subset 6 ===\n",
      " 7700/11000 [ 70%] █████████████████████          ETA: 119s | Loss: 404.420\n",
      "Train Accuracy: 11.7%\t Test Accuracy: 11.3%\n",
      "\n",
      "=== Subset 7 ===\n",
      " 8800/11000 [ 80%] ████████████████████████       ETA: 79s | Loss: 405.643\n",
      "Train Accuracy: 10.9%\t Test Accuracy: 11.3%\n",
      "\n",
      "=== Subset 8 ===\n",
      " 9900/11000 [ 90%] ███████████████████████████    ETA: 39s | Loss: 398.687\n",
      "Train Accuracy: 10.7%\t Test Accuracy: 11.3%\n",
      "\n",
      "=== Subset 9 ===\n",
      "11000/11000 [100%] ██████████████████████████████ Elapsed: 400s | Loss: 415.260\n",
      "11010/11000 [100%] ██████████████████████████████ Elapsed: 400s | Loss: 419.271\n",
      "\n",
      "Train Accuracy: 10.6%\t Test Accuracy: 11.3%\n",
      "Training completed in 388.2 seconds\n"
     ]
    }
   ],
   "source": [
    "accuracy_eval_frequency = 10\n",
    "\n",
    "history_only_vi = {'train': [], 'test': []}\n",
    "\n",
    "start_time = time.time()\n",
    "\n",
    "for i in range(0,10):\n",
    "    \n",
    "    # get data for this subset\n",
    "    print('\\n=== Subset {} ==='.format(i))\n",
    "    data_generator = mnist_subset(i, batch_size)\n",
    "\n",
    "    # do variational inference on this subset\n",
    "    for epoch in range(20):\n",
    "        \n",
    "        for batch in data_generator:\n",
    "            # convert one-hot encoding to single label\n",
    "            y_batch = np.argmax(batch[1], axis=1)\n",
    "            info_dict = inference.update(feed_dict={x: batch[0], y_cat_: y_batch})\n",
    "            inference.print_progress(info_dict)\n",
    "\n",
    "        # update our dnn weights\n",
    "        w_1.assign(qw_1.loc).eval()\n",
    "        b_1.assign(qb_1.loc).eval()\n",
    "        w_2.assign(qw_2.loc).eval()\n",
    "        b_2.assign(qb_2.loc).eval()\n",
    "        w_3.assign(qw_3.loc).eval()\n",
    "        b_3.assign(qb_3.loc).eval()\n",
    "\n",
    "        # evaluate accuracy on training data\n",
    "        train_acc = accuracy.eval(feed_dict={x: data_generator.images, y_: data_generator.labels})*100\n",
    "\n",
    "        # evaluate accuracy on test data\n",
    "        test_acc = accuracy.eval(feed_dict={x: mnist.test.images, y_: mnist.test.labels})*100\n",
    "\n",
    "        history_only_vi['train'].append(train_acc)\n",
    "        history_only_vi['test'].append(test_acc)\n",
    "\n",
    "    print('\\nTrain Accuracy: {:.1f}%\\t Test Accuracy: {:.1f}%'.format(train_acc, test_acc))\n",
    "\n",
    "end_time = time.time()\n",
    "delta_time = end_time-start_time\n",
    "print('Training completed in {:.1f} seconds'.format(delta_time))\n",
    "\n",
    "history_only_vi['train'] = np.array(history_only_vi['train']).ravel()\n",
    "history_only_vi['test'] = np.array(history_only_vi['test']).ravel()"
   ]
  },
  {
   "cell_type": "code",
   "execution_count": 38,
   "metadata": {},
   "outputs": [
    {
     "data": {
      "image/png": "[encoded data removed]",
      "text/plain": [
       "<Figure size 864x288 with 1 Axes>"
      ]
     },
     "metadata": {},
     "output_type": "display_data"
    }
   ],
   "source": [
    "plt.figure(figsize=(12,4))\n",
    "plt.plot(history_only_vi['train'], label='train accuracy')\n",
    "plt.plot(history_only_vi['test'], label='test accuracy')\n",
    "plt.legend()\n",
    "plt.ylim(0,100)\n",
    "plt.title('Bayesian Incremental Training Only');"
   ]
  },
  {
   "cell_type": "markdown",
   "metadata": {},
   "source": [
    "## Final Results"
   ]
  },
  {
   "cell_type": "code",
   "execution_count": 39,
   "metadata": {},
   "outputs": [
    {
     "data": {
      "image/png": "[encoded data removed]",
      "text/plain": [
       "<Figure size 864x288 with 1 Axes>"
      ]
     },
     "metadata": {},
     "output_type": "display_data"
    }
   ],
   "source": [
    "plt.figure(figsize=(12,4))\n",
    "plt.plot(history['test'], label='No VI')\n",
    "plt.plot(history_with_vi['test'], label='With VI')\n",
    "plt.plot(history_only_vi['test'], label='Only VI')\n",
    "plt.legend()\n",
    "plt.title('Non-Baysian Incremental Training vs Incremental Updating via Variational Inference');"
   ]
  },
  {
   "cell_type": "markdown",
   "metadata": {},
   "source": [
    "Without pre-training, the variational technique is unable to optimize the neural network. Clearly, using variational inference to update the pre-trained network is superior to either method on their own."
   ]
  },
  {
   "cell_type": "markdown",
   "metadata": {},
   "source": [
    "# Bibliography"
   ]
  },
  {
   "cell_type": "markdown",
   "metadata": {},
   "source": [
    "Adriano Azevedo-filho. Laplace’s method approximations for probabilistic inference in belief networks\n",
    "with continuous variables. In In de Mantaras, pp. 28–36. Morgan Kaufmann, 1994.\n",
    "\n",
    "Matt Hoffman, David M. Blei, Chong Wang, and John Paisley. Stochastic variational inference,\n",
    "2012.\n",
    "\n",
    "Max Kochurov, Timur Garipov, Dmitry Podoprikhin, Dmitry Molchanov, Arsenii Ashukha, and Dmitry Vetrov. arXiv:1802.07329, 2018."
   ]
  }
 ],
 "metadata": {
  "kernelspec": {
   "display_name": "Python 2",
   "language": "python",
   "name": "python2"
  },
  "language_info": {
   "codemirror_mode": {
    "name": "ipython",
    "version": 2
   },
   "file_extension": ".py",
   "mimetype": "text/x-python",
   "name": "python",
   "nbconvert_exporter": "python",
   "pygments_lexer": "ipython2",
   "version": "2.7.14"
  }
 },
 "nbformat": 4,
 "nbformat_minor": 2
}
